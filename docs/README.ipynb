{
 "cells": [
  {
   "cell_type": "markdown",
   "source": [
    "\n",
    "| OS        |  Status |\n",
    "| :-------------: |:-------------:|\n",
    "| Linux       | ![L Py 3.7 - 3.9](https://github.com/maichmueller/scm/workflows/L%20Py%203.7%20-%203.9/badge.svg)    |\n",
    "| Windows | ![W Py 3.7 - 3.9](https://github.com/maichmueller/scm/workflows/W%20Py%203.7%20-%203.9/badge.svg) |\n",
    "| Mac | ![M Py 3.7 - 3.9](https://github.com/maichmueller/scm/workflows/M%20Py%203.7%20-%203.9/badge.svg) |\n",
    "\n",
    "A Python package implementing Structural Causal Models (SCM).\n",
    "\n",
    "The library uses the CAS library [SymPy](https://github.com/sympy/sympy) to allow the user to state arbitrary assignment functions and noise distributions as supported by SymPy and builds the DAG with [networkx](https://github.com/networkx/networkx).\n",
    "\n",
    "It supports the features:\n",
    "  - Sampling\n",
    "  - Intervening\n",
    "  - Plotting\n",
    "  - Printing\n",
    "\n",
    " and by extension all methods on a DAG provided by networkx after accessing the member variable dag"
   ],
   "metadata": {
    "collapsed": false,
    "pycharm": {
     "name": "#%% md\n"
    }
   }
  },
  {
   "cell_type": "markdown",
   "source": [
    "# Installation\n",
    "Either install via pip\n",
    "```\n",
    "pip install scmodels\n",
    "```\n",
    "or via cloning the repository and running the setup.py file\n",
    "```\n",
    "git clone https://github.com/maichmueller/scm\n",
    "cd scm\n",
    "python setup.py install\n",
    "```"
   ],
   "metadata": {
    "collapsed": false,
    "pycharm": {
     "name": "#%% md\n"
    }
   }
  },
  {
   "cell_type": "markdown",
   "source": [
    "# Building an SCM\n",
    "\n",
    "To build the DAG\n",
    "\n",
    "![X \\rightarrow Y \\leftarrow Z \\rightarrow X](https://latex.codecogs.com/svg.latex?&space;X{\\rightarrow}{Y}{\\leftarrow}{Z}{\\rightarrow}X)\n",
    "\n",
    "\n",
    "with the assignments\n",
    "\n",
    "![Z ~ LogLogistic(alpha=1, beta=1)](https://latex.codecogs.com/svg.latex?&space;Z\\sim\\text{LogLogistic}(\\alpha=1,\\beta=1)])\n",
    "\n",
    "![X = 3Z^2{\\cdot}N](https://latex.codecogs.com/svg.latex?&space;X={3Z^2}{\\cdot}N\\quad[N=\\text{LogNormal}(\\mu=1,\\sigma=1)])\n",
    "\n",
    "![Y = 2Z + \\sqrt{X} + N](https://latex.codecogs.com/svg.latex?&space;Y=2Z+\\sqrt{X}+N\\quad[N=\\text{Normal}(\\mu=2,\\sigma=1)])\n",
    "\n",
    "There are 3 different ways of declaring the SCM:\n",
    "\n",
    "## 1. List Of Strings\n",
    "Describe the assignments as strings of the form:\n",
    "\n",
    "'VAR = FUNC(Noise, parent1, parent2, ...), Noise ~ DistributionXYZ'\n",
    "\n",
    "Note that - out of convenience - in this case, one does not need to (and isn't allowed to)\n",
    "restate the noise symbol string in the distribution (as would otherwise be necessary\n",
    "in constructing sympy distributions)."
   ],
   "metadata": {
    "collapsed": false
   }
  },
  {
   "cell_type": "code",
   "source": [
    "from scmodels import SCM\n",
    "\n",
    "myscm = SCM(\n",
    "    [\n",
    "        \"Z = N, N ~ LogLogistic(alpha=1, beta=1)\",\n",
    "        \"X = N * 3 * Z ** 2, N ~ LogNormal(mean=1, std=1)\",\n",
    "        \"Y = N + 2 * Z + sqrt(X), N ~ Normal(mean=2, std=1)\"\n",
    "    ]\n",
    ")"
   ],
   "metadata": {
    "collapsed": false,
    "pycharm": {
     "name": "#%%\n"
    }
   },
   "execution_count": 1,
   "outputs": []
  },
  {
   "cell_type": "markdown",
   "source": [
    "## 2. Assignment Map\n",
    "\n",
    "One can construct the SCM via an assignment map with the variables as keys and a tuple of the form:\n",
    "(assignment string (as in 1.), noise distribution)\n",
    "\n",
    "Note that the name of the noise symbol in the sympy.symbol constructor\n",
    "(e.g. `Normal(\"N\", mean=2, std=1)`) has to align with the noise variable\n",
    "name (`N`) inside the assignment string."
   ],
   "metadata": {
    "collapsed": false,
    "pycharm": {
     "name": "#%% md\n"
    }
   }
  },
  {
   "cell_type": "code",
   "execution_count": 2,
   "outputs": [],
   "source": [
    "from sympy.stats import LogLogistic, LogNormal, Normal\n",
    "\n",
    "\n",
    "assignment_map = {\n",
    "   \"Z\": (\n",
    "       \"N\",\n",
    "       LogLogistic(\"N\", alpha=1, beta=1)\n",
    "   ),\n",
    "   \"X\": (\n",
    "       \"N * 3 * Z ** 2\",\n",
    "       LogNormal(\"N\", mean=1, std=1),\n",
    "   ),\n",
    "   \"Y\": (\n",
    "       \"N + 2 * Z + sqrt(X)\",\n",
    "       Normal(\"N\", mean=2, std=1),\n",
    "   ),\n",
    "}\n",
    "\n",
    "myscm = SCM(assignment_map)"
   ],
   "metadata": {
    "collapsed": false,
    "pycharm": {
     "name": "#%%\n"
    }
   }
  },
  {
   "cell_type": "markdown",
   "source": [
    "## 3. Functional Map\n",
    "\n",
    "One can also declare the SCM via specifying the variable assignment in a dictionary with the\n",
    "variables as keys and as values a sequence of length 3 of the form:\n",
    "\n",
    "(parent strings list, Callable, Noise distribution)\n",
    "\n",
    "This allows the user to supply complex functions outside the space of predefined functions.\n",
    "\n",
    "The SCM supports a form of pretty printing its current setup, which includes mentioning active interventions\n",
    "and the assignments"
   ],
   "metadata": {
    "collapsed": false
   }
  },
  {
   "cell_type": "markdown",
   "source": [
    "# Features\n",
    "\n",
    "## Prettyprint\n",
    "\n",
    "The SCM supports a form of informative printing of its current setup,\n",
    "which includes mentioning active interventions and the assignments.\n",
    "The function declaration won't be informative if the SCM has been\n",
    "constructed with custom Callables."
   ],
   "metadata": {
    "collapsed": false
   }
  },
  {
   "cell_type": "code",
   "execution_count": 3,
   "outputs": [
    {
     "name": "stdout",
     "output_type": "stream",
     "text": [
      "Structural Causal Model of 3 variables: Z, X, Y\n",
      "Following variables are actively intervened on: []\n",
      "Current Assignments are:\n",
      "Z := f(N) = N\t [ N ~ LogLogistic(alpha=1, beta=1) ]\n",
      "X := f(N, Z) = N * 3 * Z ** 2\t [ N ~ LogNormal(mean=1, std=1) ]\n",
      "Y := f(N, X, Z) = N + 2 * Z + sqrt(X)\t [ N ~ Normal(mean=2, std=1) ]\n"
     ]
    }
   ],
   "source": [
    "print(myscm)"
   ],
   "metadata": {
    "collapsed": false,
    "pycharm": {
     "name": "#%%\n"
    }
   }
  },
  {
   "cell_type": "markdown",
   "source": [
    "## Interventions\n",
    "One can easily perform interventions on the variables,\n",
    "e.g. a Do-intervention or also general interventions, which remodel the connections, assignments, and noise distributions.\n",
    "For the general case, the sample construction possibilities apply as for the SCM constructor.\n",
    "\n",
    "For the example of the do-intervention ![\\text{do}(X=1=)](https://latex.codecogs.com/svg.latex?&space;\\text{do}(X=1)), simply execute"
   ],
   "metadata": {
    "collapsed": false
   }
  },
  {
   "cell_type": "code",
   "execution_count": null,
   "outputs": [],
   "source": [
    "myscm.do_intervention([(\"X\", 1)])"
   ],
   "metadata": {
    "collapsed": false,
    "pycharm": {
     "name": "#%%\n"
    }
   }
  },
  {
   "cell_type": "markdown",
   "source": [
    "and restore the original state with"
   ],
   "metadata": {
    "collapsed": false,
    "pycharm": {
     "name": "#%% md\n"
    }
   }
  },
  {
   "cell_type": "code",
   "execution_count": null,
   "outputs": [],
   "source": [
    "myscm.und_interventions()"
   ],
   "metadata": {
    "collapsed": false,
    "pycharm": {
     "name": "#%%\n"
    }
   }
  },
  {
   "cell_type": "markdown",
   "source": [
    "## Sampling\n",
    "\n",
    "Once can sample as many samples from the SCM as needed through the method `myscm.sample(n)`."
   ],
   "metadata": {
    "collapsed": false,
    "pycharm": {
     "name": "#%% md\n"
    }
   }
  },
  {
   "cell_type": "code",
   "execution_count": null,
   "outputs": [],
   "source": [
    "n = 5\n",
    "myscm.sample(n)"
   ],
   "metadata": {
    "collapsed": false,
    "pycharm": {
     "name": "#%%\n"
    }
   }
  },
  {
   "cell_type": "markdown",
   "source": [
    "If infinite sampling is desired, one can also receive a sampling generator through"
   ],
   "metadata": {
    "collapsed": false,
    "pycharm": {
     "name": "#%% md\n"
    }
   }
  },
  {
   "cell_type": "code",
   "execution_count": null,
   "outputs": [],
   "source": [
    "container = {var: [] for var in myscm}\n",
    "sampler = myscm.sample_iter(container)"
   ],
   "metadata": {
    "collapsed": false,
    "pycharm": {
     "name": "#%%\n"
    }
   }
  },
  {
   "cell_type": "markdown",
   "source": [
    "`container` is an optional target dictionary to store the computed samples in."
   ],
   "metadata": {
    "collapsed": false,
    "pycharm": {
     "name": "#%% md\n"
    }
   }
  },
  {
   "cell_type": "code",
   "execution_count": null,
   "outputs": [],
   "source": [
    "for i in range(n):\n",
    "    next(sampler)\n",
    "\n",
    "container"
   ],
   "metadata": {
    "collapsed": false,
    "pycharm": {
     "name": "#%%\n"
    }
   }
  },
  {
   "cell_type": "markdown",
   "source": [
    "If the target container is not provided, the generator returns a new `dict` for every sample."
   ],
   "metadata": {
    "collapsed": false,
    "pycharm": {
     "name": "#%% md\n"
    }
   }
  },
  {
   "cell_type": "code",
   "execution_count": 5,
   "outputs": [
    {
     "name": "stderr",
     "output_type": "stream",
     "text": [
      "C:\\Users\\Michael\\.conda\\envs\\py38\\lib\\site-packages\\sympy\\stats\\rv.py:1104: UserWarning: \n",
      "The return type of sample has been changed to return an iterator\n",
      "object since version 1.7. For more information see\n",
      "https://github.com/sympy/sympy/issues/19061\n",
      "  warnings.warn(filldedent(message))\n"
     ]
    },
    {
     "data": {
      "text/plain": "   X         Z          Y\n0  1  0.037574   2.891794\n1  1  0.145460   0.049132\n2  1  0.831458   3.944336\n3  1  6.835975  16.333121\n4  1  3.091106   9.645460",
      "text/html": "<div>\n<style scoped>\n    .dataframe tbody tr th:only-of-type {\n        vertical-align: middle;\n    }\n\n    .dataframe tbody tr th {\n        vertical-align: top;\n    }\n\n    .dataframe thead th {\n        text-align: right;\n    }\n</style>\n<table border=\"1\" class=\"dataframe\">\n  <thead>\n    <tr style=\"text-align: right;\">\n      <th></th>\n      <th>X</th>\n      <th>Z</th>\n      <th>Y</th>\n    </tr>\n  </thead>\n  <tbody>\n    <tr>\n      <th>0</th>\n      <td>1</td>\n      <td>0.037574</td>\n      <td>2.891794</td>\n    </tr>\n    <tr>\n      <th>1</th>\n      <td>1</td>\n      <td>0.145460</td>\n      <td>0.049132</td>\n    </tr>\n    <tr>\n      <th>2</th>\n      <td>1</td>\n      <td>0.831458</td>\n      <td>3.944336</td>\n    </tr>\n    <tr>\n      <th>3</th>\n      <td>1</td>\n      <td>6.835975</td>\n      <td>16.333121</td>\n    </tr>\n    <tr>\n      <th>4</th>\n      <td>1</td>\n      <td>3.091106</td>\n      <td>9.645460</td>\n    </tr>\n  </tbody>\n</table>\n</div>"
     },
     "execution_count": 5,
     "metadata": {},
     "output_type": "execute_result"
    }
   ],
   "source": [
    "next(myscm.sample_iter())"
   ],
   "metadata": {
    "collapsed": false,
    "pycharm": {
     "name": "#%%\n"
    }
   }
  },
  {
   "cell_type": "markdown",
   "source": [
    "## Plotting\n",
    "If you have graphviz installed, you can plot the DAG by calling"
   ],
   "metadata": {
    "collapsed": false,
    "pycharm": {
     "name": "#%% md\n"
    }
   }
  },
  {
   "cell_type": "markdown",
   "source": [
    "```python\n",
    "myscm.plot(node_size=1000, alpha=1)\n",
    "```"
   ],
   "metadata": {
    "collapsed": false,
    "pycharm": {
     "name": "#%% md\n"
    }
   }
  },
  {
   "cell_type": "markdown",
   "source": [
    "![example_plot](https://github.com/maichmueller/scm/blob/master/docs/images/example_plot.png)"
   ],
   "metadata": {
    "collapsed": false
   }
  },
  {
   "cell_type": "code",
   "execution_count": null,
   "outputs": [],
   "source": [],
   "metadata": {
    "collapsed": false,
    "pycharm": {
     "name": "#%%\n"
    }
   }
  }
 ],
 "metadata": {
  "kernelspec": {
   "name": "conda-env-.conda-py38-py",
   "language": "python",
   "display_name": "Python [conda env:.conda-py38] *"
  },
  "language_info": {
   "codemirror_mode": {
    "name": "ipython",
    "version": 2
   },
   "file_extension": ".py",
   "mimetype": "text/x-python",
   "name": "python",
   "nbconvert_exporter": "python",
   "pygments_lexer": "ipython2",
   "version": "2.7.6"
  }
 },
 "nbformat": 4,
 "nbformat_minor": 0
}