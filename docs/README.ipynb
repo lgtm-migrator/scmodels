{
 "cells": [
  {
   "cell_type": "markdown",
   "source": [
    "\n",
    "| OS        |  Status |\n",
    "| :-------------: |:-------------:|\n",
    "| Linux       | ![L Py 3.7 - 3.9](https://github.com/maichmueller/scm/workflows/L%20Py%203.7%20-%203.9/badge.svg)    |\n",
    "| Windows | ![W Py 3.7 - 3.9](https://github.com/maichmueller/scm/workflows/W%20Py%203.7%20-%203.9/badge.svg) |\n",
    "| Mac | ![M Py 3.7 - 3.9](https://github.com/maichmueller/scm/workflows/M%20Py%203.7%20-%203.9/badge.svg) |\n",
    "\n",
    "A Python package implementing Structural Causal Models (SCM).\n",
    "\n",
    "The library uses the CAS library [SymPy](https://github.com/sympy/sympy) to allow the user to state arbitrary assignment functions and noise distributions as supported by SymPy and builds the DAG with [networkx](https://github.com/networkx/networkx).\n",
    "\n",
    "It supports the features:\n",
    "  - Sampling\n",
    "  - Intervening\n",
    "  - Plotting\n",
    "  - Printing\n",
    "\n",
    " and by extension all methods on a DAG provided by networkx after accessing the member variable dag"
   ],
   "metadata": {
    "collapsed": false,
    "pycharm": {
     "name": "#%% md\n"
    }
   }
  },
  {
   "cell_type": "markdown",
   "source": [
    "# Installation\n",
    "Either install via pip\n",
    "```\n",
    "pip install scmodels\n",
    "```\n",
    "or via cloning the repository and running the setup.py file\n",
    "```\n",
    "git clone https://github.com/maichmueller/scm\n",
    "cd scm\n",
    "python setup.py install\n",
    "```"
   ],
   "metadata": {
    "collapsed": false,
    "pycharm": {
     "name": "#%% md\n"
    }
   }
  },
  {
   "cell_type": "markdown",
   "source": [
    "# Building an SCM\n",
    "\n",
    "To build the DAG\n",
    "\n",
    "![X \\rightarrow Y \\leftarrow Z \\rightarrow X](https://latex.codecogs.com/svg.latex?&space;X{\\rightarrow}{Y}{\\leftarrow}{Z}{\\rightarrow}X)\n",
    "\n",
    "\n",
    "with the assignments\n",
    "\n",
    "![Z ~ LogLogistic(alpha=1, beta=1)](https://latex.codecogs.com/svg.latex?&space;Z\\sim\\text{LogLogistic}(\\alpha=1,\\beta=1)])\n",
    "\n",
    "![X = 3Z^2{\\cdot}N](https://latex.codecogs.com/svg.latex?&space;X={3Z^2}{\\cdot}N\\quad[N=\\text{LogNormal}(\\mu=1,\\sigma=1)])\n",
    "\n",
    "![Y = 2Z + \\sqrt{X} + N](https://latex.codecogs.com/svg.latex?&space;Y=2Z+\\sqrt{X}+N\\quad[N=\\text{Normal}(\\mu=2,\\sigma=1)])\n",
    "\n",
    "There are 3 different ways of declaring the SCM:\n",
    "\n",
    "## 1. List Of Strings\n",
    "Describe the assignments as strings of the form:\n",
    "\n",
    "'VAR = FUNC(Noise, parent1, parent2, ...), Noise ~ DistributionXYZ'\n",
    "\n",
    "Note that - out of convenience - in this case, one does not need to (and isn't allowed to)\n",
    "restate the noise symbol string in the distribution (as would otherwise be necessary\n",
    "in constructing sympy distributions)."
   ],
   "metadata": {
    "collapsed": false
   }
  },
  {
   "cell_type": "code",
   "source": [
    "from scmodels import SCM\n",
    "\n",
    "assignment_seq = [\n",
    "    \"Z = M, M ~ LogLogistic(alpha=1, beta=1)\",\n",
    "    \"X = N * 3 * Z ** 2, N ~ LogNormal(mean=1, std=1)\",\n",
    "    \"Y = P + 2 * Z + sqrt(X), P ~ Normal(mean=2, std=1)\"\n",
    "]\n",
    "\n",
    "myscm = SCM(assignment_seq)"
   ],
   "metadata": {
    "collapsed": false,
    "pycharm": {
     "name": "#%%\n"
    }
   },
   "execution_count": 13,
   "outputs": []
  },
  {
   "cell_type": "markdown",
   "source": [
    "Agreements:\n",
    "- The name of the noise variable in the distribution specification\n",
    "(e.g. `P ~ Normal(mean=2, std=1)`) has to align with the noise variable\n",
    "name (`P`) of the assignment string."
   ],
   "metadata": {
    "collapsed": false
   }
  },
  {
   "cell_type": "markdown",
   "source": [
    "## 2. Assignment Map\n",
    "\n",
    "One can construct the SCM via an assignment map with the variables as keys\n",
    "and a tuple defining the assignment and the noise.\n",
    "\n",
    "### 2-Tuple: Assignments via SymPy parsing\n",
    "\n",
    "To refer to SymPy's string parsing capability (this includes numpy functions) provide a dict entry\n",
    "with a 2-tuple as value of the form:\n",
    "\n",
    "`'var': ('assignment string', noise)`\n",
    "\n"
   ],
   "metadata": {
    "collapsed": false,
    "pycharm": {
     "name": "#%% md\n"
    }
   }
  },
  {
   "cell_type": "code",
   "execution_count": 14,
   "outputs": [],
   "source": [
    "from sympy.stats import LogLogistic, LogNormal, Normal\n",
    "\n",
    "\n",
    "assignment_map = {\n",
    "   \"Z\": (\n",
    "       \"M\",\n",
    "       LogLogistic(\"M\", alpha=1, beta=1)\n",
    "   ),\n",
    "   \"X\": (\n",
    "       \"N * 3 * Z ** 2\",\n",
    "       LogNormal(\"N\", mean=1, std=1),\n",
    "   ),\n",
    "   \"Y\": (\n",
    "       \"P + 2 * Z + sqrt(X)\",\n",
    "       Normal(\"P\", mean=2, std=1),\n",
    "   ),\n",
    "}\n",
    "\n",
    "myscm2 = SCM(assignment_map)"
   ],
   "metadata": {
    "collapsed": false,
    "pycharm": {
     "name": "#%%\n"
    }
   }
  },
  {
   "cell_type": "markdown",
   "source": [
    "Agreements:\n",
    "- the name of the noise distribution provided in its constructor\n",
    "(e.g. `Normal(\"N\", mean=2, std=1)`) has to align with the noise variable\n",
    "name (`N`) of the assignment string."
   ],
   "metadata": {
    "collapsed": false
   }
  },
  {
   "cell_type": "markdown",
   "source": [
    "### 3-Tuple: Assignments with arbitrary callables\n",
    "\n",
    "One can also declare the SCM via specifying the variable assignment in a dictionary with the\n",
    "variables as keys and as values a sequence of length 3 of the form:\n",
    "\n",
    "`'var': (['parent1', 'parent2', ...], Callable, Noise)`\n",
    "\n",
    "This allows the user to supply complex functions outside the space of analytical functions."
   ],
   "metadata": {
    "collapsed": false
   }
  },
  {
   "cell_type": "code",
   "execution_count": 15,
   "outputs": [],
   "source": [
    "import numpy as np\n",
    "\n",
    "\n",
    "def Y_assignment(p, z, x):\n",
    "    return p + 2 * z + np.sqrt(x)\n",
    "\n",
    "\n",
    "functional_map = {\n",
    "   \"Z\": (\n",
    "       [],\n",
    "       lambda m: m,\n",
    "       LogLogistic(\"M\", alpha=1, beta=1)\n",
    "   ),\n",
    "   \"X\": (\n",
    "       [\"Z\"],\n",
    "       lambda n, z: n * 3 * z ** 2,\n",
    "       LogNormal(\"N\", mean=1, std=1),\n",
    "   ),\n",
    "   \"Y\": (\n",
    "       [\"Z\", \"X\"],\n",
    "       Y_assignment,\n",
    "       Normal(\"P\", mean=2, std=1),\n",
    "   ),\n",
    "}\n",
    "\n",
    "myscm3 = SCM(functional_map)"
   ],
   "metadata": {
    "collapsed": false,
    "pycharm": {
     "name": "#%%\n"
    }
   }
  },
  {
   "cell_type": "markdown",
   "source": [
    "Agreements:\n",
    "- The callable's first parameter MUST be the noise input (unless the noise distribution is `None`).\n",
    "- The order of variables in the parents list determines the semantic order of input for parameters in the functional\n",
    "(left to right)."
   ],
   "metadata": {
    "collapsed": false,
    "pycharm": {
     "name": "#%% md\n"
    }
   }
  },
  {
   "cell_type": "markdown",
   "source": [
    "# Features\n",
    "\n",
    "## Prettyprint\n",
    "\n",
    "The SCM supports a form of informative printing of its current setup,\n",
    "which includes mentioning active interventions and the assignments."
   ],
   "metadata": {
    "collapsed": false
   }
  },
  {
   "cell_type": "code",
   "execution_count": 16,
   "outputs": [
    {
     "name": "stdout",
     "output_type": "stream",
     "text": [
      "Structural Causal Model of 3 variables: Z, X, Y\n",
      "Variables with active interventions: []\n",
      "Assignments:\n",
      "Z := f(M) = M\t [ M ~ LogLogistic(alpha=1, beta=1) ]\n",
      "X := f(N, Z) = N * 3 * Z ** 2\t [ N ~ LogNormal(mean=1, std=1) ]\n",
      "Y := f(P, Z, X) = P + 2 * Z + sqrt(X)\t [ P ~ Normal(mean=2, std=1) ]\n"
     ]
    }
   ],
   "source": [
    "print(myscm)"
   ],
   "metadata": {
    "collapsed": false,
    "pycharm": {
     "name": "#%%\n"
    }
   }
  },
  {
   "cell_type": "markdown",
   "source": [
    "In the case of custom callable assignments, the output is less informative"
   ],
   "metadata": {
    "collapsed": false,
    "pycharm": {
     "name": "#%% md\n"
    }
   }
  },
  {
   "cell_type": "code",
   "execution_count": 17,
   "outputs": [
    {
     "name": "stdout",
     "output_type": "stream",
     "text": [
      "Structural Causal Model of 3 variables: Z, X, Y\n",
      "Variables with active interventions: []\n",
      "Assignments:\n",
      "Z := f(M) = __unknown__\t [ M ~ LogLogistic(alpha=1, beta=1) ]\n",
      "X := f(N, Z) = __unknown__\t [ N ~ LogNormal(mean=1, std=1) ]\n",
      "Y := f(P, Z, X) = __unknown__\t [ P ~ Normal(mean=2, std=1) ]\n"
     ]
    }
   ],
   "source": [
    "print(myscm3)"
   ],
   "metadata": {
    "collapsed": false,
    "pycharm": {
     "name": "#%%\n"
    }
   }
  },
  {
   "cell_type": "markdown",
   "source": [
    "## Interventions\n",
    "One can easily perform interventions on the variables,\n",
    "e.g. a Do-intervention or also general interventions, which remodel the connections, assignments, and noise distributions.\n",
    "For general interventions, the passing structure is dict of the following form:\n",
    "\n",
    "    {var: (New Parents (Optional), New Assignment (optional), New Noise (optional))}\n",
    "\n",
    "Any part of the original variable state, that is meant to be left unchanged, has to be passed as `None`.\n",
    "E.g. to assign a new callable assignment to variable `X` without changing parents or noise, one would call:"
   ],
   "metadata": {
    "collapsed": false
   }
  },
  {
   "cell_type": "code",
   "execution_count": 18,
   "outputs": [],
   "source": [
    "my_new_callable = lambda n, z: n + z\n",
    "\n",
    "myscm.intervention({\"X\": (None, my_new_callable, None)})"
   ],
   "metadata": {
    "collapsed": false,
    "pycharm": {
     "name": "#%%\n"
    }
   }
  },
  {
   "cell_type": "markdown",
   "source": [
    "For the example of the do-intervention ![\\text{do}(X=1=)](https://latex.codecogs.com/svg.latex?&space;\\text{do}(X=1)),\n",
    "one can use the helper method `do_intervention`. The pendant for noise interventions is called `soft_intervention`:"
   ],
   "metadata": {
    "collapsed": false,
    "pycharm": {
     "name": "#%% md\n"
    }
   }
  },
  {
   "cell_type": "code",
   "execution_count": 19,
   "outputs": [],
   "source": [
    "myscm.do_intervention([(\"X\", 1)])\n",
    "\n",
    "from sympy.stats import FiniteRV\n",
    "\n",
    "myscm.soft_intervention([(\"X\", FiniteRV(str(myscm[\"X\"].noise), density={-1: .5, 1: .5}))])"
   ],
   "metadata": {
    "collapsed": false,
    "pycharm": {
     "name": "#%%\n"
    }
   }
  },
  {
   "cell_type": "markdown",
   "source": [
    "Calling `undo_intervention` restores the original state of all variables from construction time, that have been passed. One can optionally specify,\n",
    "If no variables are specified (`variables=None`), all interventions are undone."
   ],
   "metadata": {
    "collapsed": false,
    "pycharm": {
     "name": "#%% md\n"
    }
   }
  },
  {
   "cell_type": "code",
   "execution_count": 20,
   "outputs": [],
   "source": [
    "myscm.undo_intervention(variables=[\"X\"])"
   ],
   "metadata": {
    "collapsed": false,
    "pycharm": {
     "name": "#%%\n"
    }
   }
  },
  {
   "cell_type": "markdown",
   "source": [
    "## Sampling\n",
    "\n",
    "The SCM allows drawing as many samples as needed through the method `myscm.sample(n)`."
   ],
   "metadata": {
    "collapsed": false,
    "pycharm": {
     "name": "#%% md\n"
    }
   }
  },
  {
   "cell_type": "code",
   "execution_count": 21,
   "outputs": [
    {
     "name": "stderr",
     "output_type": "stream",
     "text": [
      "/home/michael/anaconda3/envs/scm/lib/python3.8/site-packages/sympy/stats/rv.py:1104: UserWarning: \n",
      "The return type of sample has been changed to return an iterator\n",
      "object since version 1.7. For more information see\n",
      "https://github.com/sympy/sympy/issues/19061\n",
      "  warnings.warn(filldedent(message))\n"
     ]
    },
    {
     "data": {
      "text/plain": "          Z          X          Y\n0  3.130168  25.518928  13.524461\n1  0.730453   6.036398   7.148895\n2  0.179568   0.156701   3.149104\n3  0.879909   6.787311   6.056273\n4  1.710136  20.079351   8.894617",
      "text/html": "<div>\n<style scoped>\n    .dataframe tbody tr th:only-of-type {\n        vertical-align: middle;\n    }\n\n    .dataframe tbody tr th {\n        vertical-align: top;\n    }\n\n    .dataframe thead th {\n        text-align: right;\n    }\n</style>\n<table border=\"1\" class=\"dataframe\">\n  <thead>\n    <tr style=\"text-align: right;\">\n      <th></th>\n      <th>Z</th>\n      <th>X</th>\n      <th>Y</th>\n    </tr>\n  </thead>\n  <tbody>\n    <tr>\n      <th>0</th>\n      <td>3.130168</td>\n      <td>25.518928</td>\n      <td>13.524461</td>\n    </tr>\n    <tr>\n      <th>1</th>\n      <td>0.730453</td>\n      <td>6.036398</td>\n      <td>7.148895</td>\n    </tr>\n    <tr>\n      <th>2</th>\n      <td>0.179568</td>\n      <td>0.156701</td>\n      <td>3.149104</td>\n    </tr>\n    <tr>\n      <th>3</th>\n      <td>0.879909</td>\n      <td>6.787311</td>\n      <td>6.056273</td>\n    </tr>\n    <tr>\n      <th>4</th>\n      <td>1.710136</td>\n      <td>20.079351</td>\n      <td>8.894617</td>\n    </tr>\n  </tbody>\n</table>\n</div>"
     },
     "execution_count": 21,
     "metadata": {},
     "output_type": "execute_result"
    }
   ],
   "source": [
    "n = 5\n",
    "myscm.sample(n)"
   ],
   "metadata": {
    "collapsed": false,
    "pycharm": {
     "name": "#%%\n"
    }
   }
  },
  {
   "cell_type": "markdown",
   "source": [
    "If infinite sampling is desired, one can also receive a sampling generator through"
   ],
   "metadata": {
    "collapsed": false,
    "pycharm": {
     "name": "#%% md\n"
    }
   }
  },
  {
   "cell_type": "code",
   "execution_count": 22,
   "outputs": [],
   "source": [
    "container = {var: [] for var in myscm}\n",
    "sampler = myscm.sample_iter(container)"
   ],
   "metadata": {
    "collapsed": false,
    "pycharm": {
     "name": "#%%\n"
    }
   }
  },
  {
   "cell_type": "markdown",
   "source": [
    "`container` is an optional target dictionary to store the computed samples in."
   ],
   "metadata": {
    "collapsed": false,
    "pycharm": {
     "name": "#%% md\n"
    }
   }
  },
  {
   "cell_type": "code",
   "execution_count": 23,
   "outputs": [
    {
     "name": "stderr",
     "output_type": "stream",
     "text": [
      "/home/michael/anaconda3/envs/scm/lib/python3.8/site-packages/sympy/stats/rv.py:1104: UserWarning: \n",
      "The return type of sample has been changed to return an iterator\n",
      "object since version 1.7. For more information see\n",
      "https://github.com/sympy/sympy/issues/19061\n",
      "  warnings.warn(filldedent(message))\n"
     ]
    },
    {
     "data": {
      "text/plain": "          Z           X          Y\n0  0.341271    1.271099   4.547078\n1  2.722751  235.765034  22.591202\n2  0.081638    0.107539   3.898544\n3  2.745713  210.743838  21.806575\n4  1.528015    9.768679   9.058807",
      "text/html": "<div>\n<style scoped>\n    .dataframe tbody tr th:only-of-type {\n        vertical-align: middle;\n    }\n\n    .dataframe tbody tr th {\n        vertical-align: top;\n    }\n\n    .dataframe thead th {\n        text-align: right;\n    }\n</style>\n<table border=\"1\" class=\"dataframe\">\n  <thead>\n    <tr style=\"text-align: right;\">\n      <th></th>\n      <th>Z</th>\n      <th>X</th>\n      <th>Y</th>\n    </tr>\n  </thead>\n  <tbody>\n    <tr>\n      <th>0</th>\n      <td>0.341271</td>\n      <td>1.271099</td>\n      <td>4.547078</td>\n    </tr>\n    <tr>\n      <th>1</th>\n      <td>2.722751</td>\n      <td>235.765034</td>\n      <td>22.591202</td>\n    </tr>\n    <tr>\n      <th>2</th>\n      <td>0.081638</td>\n      <td>0.107539</td>\n      <td>3.898544</td>\n    </tr>\n    <tr>\n      <th>3</th>\n      <td>2.745713</td>\n      <td>210.743838</td>\n      <td>21.806575</td>\n    </tr>\n    <tr>\n      <th>4</th>\n      <td>1.528015</td>\n      <td>9.768679</td>\n      <td>9.058807</td>\n    </tr>\n  </tbody>\n</table>\n</div>"
     },
     "execution_count": 23,
     "metadata": {},
     "output_type": "execute_result"
    }
   ],
   "source": [
    "import pandas as pd\n",
    "\n",
    "for i in range(n):\n",
    "    next(sampler)\n",
    "\n",
    "pd.DataFrame.from_dict(container)"
   ],
   "metadata": {
    "collapsed": false,
    "pycharm": {
     "name": "#%%\n"
    }
   }
  },
  {
   "cell_type": "markdown",
   "source": [
    "If the target container is not provided, the generator returns a new `dict` for every sample."
   ],
   "metadata": {
    "collapsed": false,
    "pycharm": {
     "name": "#%% md\n"
    }
   }
  },
  {
   "cell_type": "code",
   "execution_count": 24,
   "outputs": [
    {
     "name": "stderr",
     "output_type": "stream",
     "text": [
      "/home/michael/anaconda3/envs/scm/lib/python3.8/site-packages/sympy/stats/rv.py:1104: UserWarning: \n",
      "The return type of sample has been changed to return an iterator\n",
      "object since version 1.7. For more information see\n",
      "https://github.com/sympy/sympy/issues/19061\n",
      "  warnings.warn(filldedent(message))\n"
     ]
    },
    {
     "data": {
      "text/plain": "          Z         X         Y\n0  0.399457  3.369994  6.946475",
      "text/html": "<div>\n<style scoped>\n    .dataframe tbody tr th:only-of-type {\n        vertical-align: middle;\n    }\n\n    .dataframe tbody tr th {\n        vertical-align: top;\n    }\n\n    .dataframe thead th {\n        text-align: right;\n    }\n</style>\n<table border=\"1\" class=\"dataframe\">\n  <thead>\n    <tr style=\"text-align: right;\">\n      <th></th>\n      <th>Z</th>\n      <th>X</th>\n      <th>Y</th>\n    </tr>\n  </thead>\n  <tbody>\n    <tr>\n      <th>0</th>\n      <td>0.399457</td>\n      <td>3.369994</td>\n      <td>6.946475</td>\n    </tr>\n  </tbody>\n</table>\n</div>"
     },
     "execution_count": 24,
     "metadata": {},
     "output_type": "execute_result"
    }
   ],
   "source": [
    "sample = next(myscm.sample_iter())\n",
    "pd.DataFrame.from_dict(sample)"
   ],
   "metadata": {
    "collapsed": false,
    "pycharm": {
     "name": "#%%\n"
    }
   }
  },
  {
   "cell_type": "markdown",
   "source": [
    "## Plotting\n",
    "If you have graphviz installed, you can plot the DAG by calling"
   ],
   "metadata": {
    "collapsed": false,
    "pycharm": {
     "name": "#%% md\n"
    }
   }
  },
  {
   "cell_type": "markdown",
   "source": [
    "```python\n",
    "myscm.plot(node_size=1000, alpha=1)\n",
    "```"
   ],
   "metadata": {
    "collapsed": false,
    "pycharm": {
     "name": "#%% md\n"
    }
   }
  },
  {
   "cell_type": "markdown",
   "source": [
    "![example_plot](https://github.com/maichmueller/scm/blob/master/docs/images/example_plot.png)"
   ],
   "metadata": {
    "collapsed": false
   }
  },
  {
   "cell_type": "code",
   "execution_count": null,
   "outputs": [],
   "source": [],
   "metadata": {
    "collapsed": false,
    "pycharm": {
     "name": "#%%\n"
    }
   }
  }
 ],
 "metadata": {
  "kernelspec": {
   "name": "conda-env-scm-py",
   "language": "python",
   "display_name": "Python [conda env:scm] *"
  },
  "language_info": {
   "codemirror_mode": {
    "name": "ipython",
    "version": 2
   },
   "file_extension": ".py",
   "mimetype": "text/x-python",
   "name": "python",
   "nbconvert_exporter": "python",
   "pygments_lexer": "ipython2",
   "version": "2.7.6"
  }
 },
 "nbformat": 4,
 "nbformat_minor": 0
}